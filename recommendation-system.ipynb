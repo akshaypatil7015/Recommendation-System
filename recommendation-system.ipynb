{
 "cells": [
  {
   "cell_type": "code",
   "execution_count": 1,
   "id": "2ec8d4bf",
   "metadata": {
    "_cell_guid": "b1076dfc-b9ad-4769-8c92-a6c4dae69d19",
    "_uuid": "8f2839f25d086af736a60e9eeb907d3b93b6e0e5",
    "execution": {
     "iopub.execute_input": "2024-06-19T05:54:42.118025Z",
     "iopub.status.busy": "2024-06-19T05:54:42.117605Z",
     "iopub.status.idle": "2024-06-19T05:54:43.208849Z",
     "shell.execute_reply": "2024-06-19T05:54:43.207344Z"
    },
    "papermill": {
     "duration": 1.104456,
     "end_time": "2024-06-19T05:54:43.212234",
     "exception": false,
     "start_time": "2024-06-19T05:54:42.107778",
     "status": "completed"
    },
    "tags": []
   },
   "outputs": [
    {
     "name": "stdout",
     "output_type": "stream",
     "text": [
      "/kaggle/input/movie-recommendation-system/movies.csv\n",
      "/kaggle/input/movie-recommendation-system/ratings.csv\n"
     ]
    }
   ],
   "source": [
    "# This Python 3 environment comes with many helpful analytics libraries installed\n",
    "# It is defined by the kaggle/python Docker image: https://github.com/kaggle/docker-python\n",
    "# For example, here's several helpful packages to load\n",
    "\n",
    "import numpy as np # linear algebra\n",
    "import pandas as pd # data processing, CSV file I/O (e.g. pd.read_csv)\n",
    "\n",
    "# Input data files are available in the read-only \"../input/\" directory\n",
    "# For example, running this (by clicking run or pressing Shift+Enter) will list all files under the input directory\n",
    "\n",
    "import os\n",
    "for dirname, _, filenames in os.walk('/kaggle/input'):\n",
    "    for filename in filenames:\n",
    "        print(os.path.join(dirname, filename))\n",
    "\n",
    "# You can write up to 20GB to the current directory (/kaggle/working/) that gets preserved as output when you create a version using \"Save & Run All\" \n",
    "# You can also write temporary files to /kaggle/temp/, but they won't be saved outside of the current session"
   ]
  },
  {
   "cell_type": "markdown",
   "id": "408479dc",
   "metadata": {
    "papermill": {
     "duration": 0.006655,
     "end_time": "2024-06-19T05:54:43.226510",
     "exception": false,
     "start_time": "2024-06-19T05:54:43.219855",
     "status": "completed"
    },
    "tags": []
   },
   "source": [
    "# Movie Recommendation using KNN "
   ]
  },
  {
   "cell_type": "code",
   "execution_count": 2,
   "id": "4e812bd8",
   "metadata": {
    "execution": {
     "iopub.execute_input": "2024-06-19T05:54:43.243031Z",
     "iopub.status.busy": "2024-06-19T05:54:43.242458Z",
     "iopub.status.idle": "2024-06-19T05:55:06.370208Z",
     "shell.execute_reply": "2024-06-19T05:55:06.368678Z"
    },
    "papermill": {
     "duration": 23.139677,
     "end_time": "2024-06-19T05:55:06.373652",
     "exception": false,
     "start_time": "2024-06-19T05:54:43.233975",
     "status": "completed"
    },
    "tags": []
   },
   "outputs": [
    {
     "data": {
      "text/html": [
       "<div>\n",
       "<style scoped>\n",
       "    .dataframe tbody tr th:only-of-type {\n",
       "        vertical-align: middle;\n",
       "    }\n",
       "\n",
       "    .dataframe tbody tr th {\n",
       "        vertical-align: top;\n",
       "    }\n",
       "\n",
       "    .dataframe thead th {\n",
       "        text-align: right;\n",
       "    }\n",
       "</style>\n",
       "<table border=\"1\" class=\"dataframe\">\n",
       "  <thead>\n",
       "    <tr style=\"text-align: right;\">\n",
       "      <th></th>\n",
       "      <th>movieId</th>\n",
       "      <th>title</th>\n",
       "      <th>genres</th>\n",
       "    </tr>\n",
       "  </thead>\n",
       "  <tbody>\n",
       "    <tr>\n",
       "      <th>0</th>\n",
       "      <td>1</td>\n",
       "      <td>Toy Story (1995)</td>\n",
       "      <td>Adventure|Animation|Children|Comedy|Fantasy</td>\n",
       "    </tr>\n",
       "    <tr>\n",
       "      <th>1</th>\n",
       "      <td>2</td>\n",
       "      <td>Jumanji (1995)</td>\n",
       "      <td>Adventure|Children|Fantasy</td>\n",
       "    </tr>\n",
       "    <tr>\n",
       "      <th>2</th>\n",
       "      <td>3</td>\n",
       "      <td>Grumpier Old Men (1995)</td>\n",
       "      <td>Comedy|Romance</td>\n",
       "    </tr>\n",
       "    <tr>\n",
       "      <th>3</th>\n",
       "      <td>4</td>\n",
       "      <td>Waiting to Exhale (1995)</td>\n",
       "      <td>Comedy|Drama|Romance</td>\n",
       "    </tr>\n",
       "    <tr>\n",
       "      <th>4</th>\n",
       "      <td>5</td>\n",
       "      <td>Father of the Bride Part II (1995)</td>\n",
       "      <td>Comedy</td>\n",
       "    </tr>\n",
       "  </tbody>\n",
       "</table>\n",
       "</div>"
      ],
      "text/plain": [
       "   movieId                               title  \\\n",
       "0        1                    Toy Story (1995)   \n",
       "1        2                      Jumanji (1995)   \n",
       "2        3             Grumpier Old Men (1995)   \n",
       "3        4            Waiting to Exhale (1995)   \n",
       "4        5  Father of the Bride Part II (1995)   \n",
       "\n",
       "                                        genres  \n",
       "0  Adventure|Animation|Children|Comedy|Fantasy  \n",
       "1                   Adventure|Children|Fantasy  \n",
       "2                               Comedy|Romance  \n",
       "3                         Comedy|Drama|Romance  \n",
       "4                                       Comedy  "
      ]
     },
     "execution_count": 2,
     "metadata": {},
     "output_type": "execute_result"
    }
   ],
   "source": [
    "movies_df=pd.read_csv('/kaggle/input/movie-recommendation-system/movies.csv')\n",
    "ratings_df=pd.read_csv('/kaggle/input/movie-recommendation-system/ratings.csv')\n",
    "movies_df.head()"
   ]
  },
  {
   "cell_type": "code",
   "execution_count": 3,
   "id": "0ee3d098",
   "metadata": {
    "execution": {
     "iopub.execute_input": "2024-06-19T05:55:06.392483Z",
     "iopub.status.busy": "2024-06-19T05:55:06.392008Z",
     "iopub.status.idle": "2024-06-19T05:55:06.400155Z",
     "shell.execute_reply": "2024-06-19T05:55:06.398922Z"
    },
    "papermill": {
     "duration": 0.021429,
     "end_time": "2024-06-19T05:55:06.402925",
     "exception": false,
     "start_time": "2024-06-19T05:55:06.381496",
     "status": "completed"
    },
    "tags": []
   },
   "outputs": [
    {
     "data": {
      "text/plain": [
       "(62423, 3)"
      ]
     },
     "execution_count": 3,
     "metadata": {},
     "output_type": "execute_result"
    }
   ],
   "source": [
    "movies_df.shape"
   ]
  },
  {
   "cell_type": "code",
   "execution_count": 4,
   "id": "b79e296c",
   "metadata": {
    "execution": {
     "iopub.execute_input": "2024-06-19T05:55:06.420454Z",
     "iopub.status.busy": "2024-06-19T05:55:06.420045Z",
     "iopub.status.idle": "2024-06-19T05:55:06.445477Z",
     "shell.execute_reply": "2024-06-19T05:55:06.444340Z"
    },
    "papermill": {
     "duration": 0.037617,
     "end_time": "2024-06-19T05:55:06.448383",
     "exception": false,
     "start_time": "2024-06-19T05:55:06.410766",
     "status": "completed"
    },
    "tags": []
   },
   "outputs": [
    {
     "data": {
      "text/plain": [
       "movieId    0\n",
       "title      0\n",
       "genres     0\n",
       "dtype: int64"
      ]
     },
     "execution_count": 4,
     "metadata": {},
     "output_type": "execute_result"
    }
   ],
   "source": [
    "movies_df.isna().sum()"
   ]
  },
  {
   "cell_type": "code",
   "execution_count": 5,
   "id": "da7917b1",
   "metadata": {
    "execution": {
     "iopub.execute_input": "2024-06-19T05:55:06.466391Z",
     "iopub.status.busy": "2024-06-19T05:55:06.465964Z",
     "iopub.status.idle": "2024-06-19T05:55:06.506806Z",
     "shell.execute_reply": "2024-06-19T05:55:06.505076Z"
    },
    "papermill": {
     "duration": 0.054043,
     "end_time": "2024-06-19T05:55:06.510404",
     "exception": false,
     "start_time": "2024-06-19T05:55:06.456361",
     "status": "completed"
    },
    "tags": []
   },
   "outputs": [
    {
     "name": "stdout",
     "output_type": "stream",
     "text": [
      "<class 'pandas.core.frame.DataFrame'>\n",
      "RangeIndex: 62423 entries, 0 to 62422\n",
      "Data columns (total 3 columns):\n",
      " #   Column   Non-Null Count  Dtype \n",
      "---  ------   --------------  ----- \n",
      " 0   movieId  62423 non-null  int64 \n",
      " 1   title    62423 non-null  object\n",
      " 2   genres   62423 non-null  object\n",
      "dtypes: int64(1), object(2)\n",
      "memory usage: 1.4+ MB\n"
     ]
    }
   ],
   "source": [
    "movies_df.info()"
   ]
  },
  {
   "cell_type": "code",
   "execution_count": 6,
   "id": "1645e9f6",
   "metadata": {
    "execution": {
     "iopub.execute_input": "2024-06-19T05:55:06.529381Z",
     "iopub.status.busy": "2024-06-19T05:55:06.528890Z",
     "iopub.status.idle": "2024-06-19T05:55:06.545855Z",
     "shell.execute_reply": "2024-06-19T05:55:06.544496Z"
    },
    "papermill": {
     "duration": 0.030657,
     "end_time": "2024-06-19T05:55:06.549115",
     "exception": false,
     "start_time": "2024-06-19T05:55:06.518458",
     "status": "completed"
    },
    "tags": []
   },
   "outputs": [
    {
     "data": {
      "text/html": [
       "<div>\n",
       "<style scoped>\n",
       "    .dataframe tbody tr th:only-of-type {\n",
       "        vertical-align: middle;\n",
       "    }\n",
       "\n",
       "    .dataframe tbody tr th {\n",
       "        vertical-align: top;\n",
       "    }\n",
       "\n",
       "    .dataframe thead th {\n",
       "        text-align: right;\n",
       "    }\n",
       "</style>\n",
       "<table border=\"1\" class=\"dataframe\">\n",
       "  <thead>\n",
       "    <tr style=\"text-align: right;\">\n",
       "      <th></th>\n",
       "      <th>userId</th>\n",
       "      <th>movieId</th>\n",
       "      <th>rating</th>\n",
       "      <th>timestamp</th>\n",
       "    </tr>\n",
       "  </thead>\n",
       "  <tbody>\n",
       "    <tr>\n",
       "      <th>0</th>\n",
       "      <td>1</td>\n",
       "      <td>296</td>\n",
       "      <td>5.0</td>\n",
       "      <td>1147880044</td>\n",
       "    </tr>\n",
       "    <tr>\n",
       "      <th>1</th>\n",
       "      <td>1</td>\n",
       "      <td>306</td>\n",
       "      <td>3.5</td>\n",
       "      <td>1147868817</td>\n",
       "    </tr>\n",
       "    <tr>\n",
       "      <th>2</th>\n",
       "      <td>1</td>\n",
       "      <td>307</td>\n",
       "      <td>5.0</td>\n",
       "      <td>1147868828</td>\n",
       "    </tr>\n",
       "    <tr>\n",
       "      <th>3</th>\n",
       "      <td>1</td>\n",
       "      <td>665</td>\n",
       "      <td>5.0</td>\n",
       "      <td>1147878820</td>\n",
       "    </tr>\n",
       "    <tr>\n",
       "      <th>4</th>\n",
       "      <td>1</td>\n",
       "      <td>899</td>\n",
       "      <td>3.5</td>\n",
       "      <td>1147868510</td>\n",
       "    </tr>\n",
       "  </tbody>\n",
       "</table>\n",
       "</div>"
      ],
      "text/plain": [
       "   userId  movieId  rating   timestamp\n",
       "0       1      296     5.0  1147880044\n",
       "1       1      306     3.5  1147868817\n",
       "2       1      307     5.0  1147868828\n",
       "3       1      665     5.0  1147878820\n",
       "4       1      899     3.5  1147868510"
      ]
     },
     "execution_count": 6,
     "metadata": {},
     "output_type": "execute_result"
    }
   ],
   "source": [
    "ratings_df.head()"
   ]
  },
  {
   "cell_type": "code",
   "execution_count": 7,
   "id": "18c1bb2b",
   "metadata": {
    "execution": {
     "iopub.execute_input": "2024-06-19T05:55:06.568404Z",
     "iopub.status.busy": "2024-06-19T05:55:06.567951Z",
     "iopub.status.idle": "2024-06-19T05:55:06.715756Z",
     "shell.execute_reply": "2024-06-19T05:55:06.714134Z"
    },
    "papermill": {
     "duration": 0.160914,
     "end_time": "2024-06-19T05:55:06.718704",
     "exception": false,
     "start_time": "2024-06-19T05:55:06.557790",
     "status": "completed"
    },
    "tags": []
   },
   "outputs": [
    {
     "data": {
      "text/plain": [
       "userId       0\n",
       "movieId      0\n",
       "rating       0\n",
       "timestamp    0\n",
       "dtype: int64"
      ]
     },
     "execution_count": 7,
     "metadata": {},
     "output_type": "execute_result"
    }
   ],
   "source": [
    "ratings_df.isna().sum()"
   ]
  },
  {
   "cell_type": "code",
   "execution_count": 8,
   "id": "2fedfa92",
   "metadata": {
    "execution": {
     "iopub.execute_input": "2024-06-19T05:55:06.738247Z",
     "iopub.status.busy": "2024-06-19T05:55:06.737784Z",
     "iopub.status.idle": "2024-06-19T05:55:06.752440Z",
     "shell.execute_reply": "2024-06-19T05:55:06.750731Z"
    },
    "papermill": {
     "duration": 0.028013,
     "end_time": "2024-06-19T05:55:06.755332",
     "exception": false,
     "start_time": "2024-06-19T05:55:06.727319",
     "status": "completed"
    },
    "tags": []
   },
   "outputs": [
    {
     "name": "stdout",
     "output_type": "stream",
     "text": [
      "<class 'pandas.core.frame.DataFrame'>\n",
      "RangeIndex: 25000095 entries, 0 to 25000094\n",
      "Data columns (total 4 columns):\n",
      " #   Column     Dtype  \n",
      "---  ------     -----  \n",
      " 0   userId     int64  \n",
      " 1   movieId    int64  \n",
      " 2   rating     float64\n",
      " 3   timestamp  int64  \n",
      "dtypes: float64(1), int64(3)\n",
      "memory usage: 762.9 MB\n"
     ]
    }
   ],
   "source": [
    "ratings_df.info()"
   ]
  },
  {
   "cell_type": "code",
   "execution_count": 9,
   "id": "d7a40b4c",
   "metadata": {
    "execution": {
     "iopub.execute_input": "2024-06-19T05:55:06.776264Z",
     "iopub.status.busy": "2024-06-19T05:55:06.775387Z",
     "iopub.status.idle": "2024-06-19T05:55:06.783908Z",
     "shell.execute_reply": "2024-06-19T05:55:06.782561Z"
    },
    "papermill": {
     "duration": 0.022849,
     "end_time": "2024-06-19T05:55:06.786647",
     "exception": false,
     "start_time": "2024-06-19T05:55:06.763798",
     "status": "completed"
    },
    "tags": []
   },
   "outputs": [
    {
     "data": {
      "text/plain": [
       "(25000095, 4)"
      ]
     },
     "execution_count": 9,
     "metadata": {},
     "output_type": "execute_result"
    }
   ],
   "source": [
    "ratings_df.shape"
   ]
  },
  {
   "cell_type": "code",
   "execution_count": 10,
   "id": "446ff75c",
   "metadata": {
    "execution": {
     "iopub.execute_input": "2024-06-19T05:55:06.806322Z",
     "iopub.status.busy": "2024-06-19T05:55:06.805880Z",
     "iopub.status.idle": "2024-06-19T05:55:12.763090Z",
     "shell.execute_reply": "2024-06-19T05:55:12.761811Z"
    },
    "papermill": {
     "duration": 5.971174,
     "end_time": "2024-06-19T05:55:12.766238",
     "exception": false,
     "start_time": "2024-06-19T05:55:06.795064",
     "status": "completed"
    },
    "tags": []
   },
   "outputs": [
    {
     "data": {
      "text/html": [
       "<div>\n",
       "<style scoped>\n",
       "    .dataframe tbody tr th:only-of-type {\n",
       "        vertical-align: middle;\n",
       "    }\n",
       "\n",
       "    .dataframe tbody tr th {\n",
       "        vertical-align: top;\n",
       "    }\n",
       "\n",
       "    .dataframe thead th {\n",
       "        text-align: right;\n",
       "    }\n",
       "</style>\n",
       "<table border=\"1\" class=\"dataframe\">\n",
       "  <thead>\n",
       "    <tr style=\"text-align: right;\">\n",
       "      <th></th>\n",
       "      <th>movieId</th>\n",
       "      <th>title</th>\n",
       "      <th>userId</th>\n",
       "      <th>rating</th>\n",
       "    </tr>\n",
       "  </thead>\n",
       "  <tbody>\n",
       "    <tr>\n",
       "      <th>0</th>\n",
       "      <td>1</td>\n",
       "      <td>Toy Story (1995)</td>\n",
       "      <td>2</td>\n",
       "      <td>3.5</td>\n",
       "    </tr>\n",
       "    <tr>\n",
       "      <th>1</th>\n",
       "      <td>1</td>\n",
       "      <td>Toy Story (1995)</td>\n",
       "      <td>3</td>\n",
       "      <td>4.0</td>\n",
       "    </tr>\n",
       "    <tr>\n",
       "      <th>2</th>\n",
       "      <td>1</td>\n",
       "      <td>Toy Story (1995)</td>\n",
       "      <td>4</td>\n",
       "      <td>3.0</td>\n",
       "    </tr>\n",
       "    <tr>\n",
       "      <th>3</th>\n",
       "      <td>1</td>\n",
       "      <td>Toy Story (1995)</td>\n",
       "      <td>5</td>\n",
       "      <td>4.0</td>\n",
       "    </tr>\n",
       "    <tr>\n",
       "      <th>4</th>\n",
       "      <td>1</td>\n",
       "      <td>Toy Story (1995)</td>\n",
       "      <td>8</td>\n",
       "      <td>4.0</td>\n",
       "    </tr>\n",
       "  </tbody>\n",
       "</table>\n",
       "</div>"
      ],
      "text/plain": [
       "   movieId             title  userId  rating\n",
       "0        1  Toy Story (1995)       2     3.5\n",
       "1        1  Toy Story (1995)       3     4.0\n",
       "2        1  Toy Story (1995)       4     3.0\n",
       "3        1  Toy Story (1995)       5     4.0\n",
       "4        1  Toy Story (1995)       8     4.0"
      ]
     },
     "execution_count": 10,
     "metadata": {},
     "output_type": "execute_result"
    }
   ],
   "source": [
    "df=movies_df.merge(ratings_df)\n",
    "df1=df.drop(['genres', 'timestamp'], axis=1)\n",
    "df1.head()"
   ]
  },
  {
   "cell_type": "code",
   "execution_count": 11,
   "id": "c28e2aee",
   "metadata": {
    "execution": {
     "iopub.execute_input": "2024-06-19T05:55:12.786963Z",
     "iopub.status.busy": "2024-06-19T05:55:12.786453Z",
     "iopub.status.idle": "2024-06-19T05:55:16.335564Z",
     "shell.execute_reply": "2024-06-19T05:55:16.334373Z"
    },
    "papermill": {
     "duration": 3.563073,
     "end_time": "2024-06-19T05:55:16.338591",
     "exception": false,
     "start_time": "2024-06-19T05:55:12.775518",
     "status": "completed"
    },
    "tags": []
   },
   "outputs": [
    {
     "data": {
      "text/html": [
       "<div>\n",
       "<style scoped>\n",
       "    .dataframe tbody tr th:only-of-type {\n",
       "        vertical-align: middle;\n",
       "    }\n",
       "\n",
       "    .dataframe tbody tr th {\n",
       "        vertical-align: top;\n",
       "    }\n",
       "\n",
       "    .dataframe thead th {\n",
       "        text-align: right;\n",
       "    }\n",
       "</style>\n",
       "<table border=\"1\" class=\"dataframe\">\n",
       "  <thead>\n",
       "    <tr style=\"text-align: right;\">\n",
       "      <th></th>\n",
       "      <th>title</th>\n",
       "      <th>ratingcount</th>\n",
       "    </tr>\n",
       "  </thead>\n",
       "  <tbody>\n",
       "    <tr>\n",
       "      <th>0</th>\n",
       "      <td>\"BLOW THE NIGHT!\" Let's Spend the Night Togeth...</td>\n",
       "      <td>1</td>\n",
       "    </tr>\n",
       "    <tr>\n",
       "      <th>1</th>\n",
       "      <td>\"Great Performances\" Cats (1998)</td>\n",
       "      <td>179</td>\n",
       "    </tr>\n",
       "    <tr>\n",
       "      <th>2</th>\n",
       "      <td>#1 Cheerleader Camp (2010)</td>\n",
       "      <td>9</td>\n",
       "    </tr>\n",
       "    <tr>\n",
       "      <th>3</th>\n",
       "      <td>#Captured (2017)</td>\n",
       "      <td>2</td>\n",
       "    </tr>\n",
       "    <tr>\n",
       "      <th>4</th>\n",
       "      <td>#Female Pleasure (2018)</td>\n",
       "      <td>3</td>\n",
       "    </tr>\n",
       "  </tbody>\n",
       "</table>\n",
       "</div>"
      ],
      "text/plain": [
       "                                               title  ratingcount\n",
       "0  \"BLOW THE NIGHT!\" Let's Spend the Night Togeth...            1\n",
       "1                   \"Great Performances\" Cats (1998)          179\n",
       "2                         #1 Cheerleader Camp (2010)            9\n",
       "3                                   #Captured (2017)            2\n",
       "4                            #Female Pleasure (2018)            3"
      ]
     },
     "execution_count": 11,
     "metadata": {},
     "output_type": "execute_result"
    }
   ],
   "source": [
    "df2=df1.groupby('title')['rating'].count().reset_index().rename(columns={'rating': 'ratingcount'})\n",
    "df2.head()"
   ]
  },
  {
   "cell_type": "code",
   "execution_count": 12,
   "id": "fead26f7",
   "metadata": {
    "execution": {
     "iopub.execute_input": "2024-06-19T05:55:16.359439Z",
     "iopub.status.busy": "2024-06-19T05:55:16.358964Z",
     "iopub.status.idle": "2024-06-19T05:55:22.808624Z",
     "shell.execute_reply": "2024-06-19T05:55:22.807182Z"
    },
    "papermill": {
     "duration": 6.463425,
     "end_time": "2024-06-19T05:55:22.811328",
     "exception": false,
     "start_time": "2024-06-19T05:55:16.347903",
     "status": "completed"
    },
    "tags": []
   },
   "outputs": [
    {
     "data": {
      "text/html": [
       "<div>\n",
       "<style scoped>\n",
       "    .dataframe tbody tr th:only-of-type {\n",
       "        vertical-align: middle;\n",
       "    }\n",
       "\n",
       "    .dataframe tbody tr th {\n",
       "        vertical-align: top;\n",
       "    }\n",
       "\n",
       "    .dataframe thead th {\n",
       "        text-align: right;\n",
       "    }\n",
       "</style>\n",
       "<table border=\"1\" class=\"dataframe\">\n",
       "  <thead>\n",
       "    <tr style=\"text-align: right;\">\n",
       "      <th></th>\n",
       "      <th>movieId</th>\n",
       "      <th>title</th>\n",
       "      <th>userId</th>\n",
       "      <th>rating</th>\n",
       "      <th>ratingcount</th>\n",
       "    </tr>\n",
       "  </thead>\n",
       "  <tbody>\n",
       "    <tr>\n",
       "      <th>0</th>\n",
       "      <td>1</td>\n",
       "      <td>Toy Story (1995)</td>\n",
       "      <td>2</td>\n",
       "      <td>3.5</td>\n",
       "      <td>57309</td>\n",
       "    </tr>\n",
       "    <tr>\n",
       "      <th>1</th>\n",
       "      <td>1</td>\n",
       "      <td>Toy Story (1995)</td>\n",
       "      <td>3</td>\n",
       "      <td>4.0</td>\n",
       "      <td>57309</td>\n",
       "    </tr>\n",
       "    <tr>\n",
       "      <th>2</th>\n",
       "      <td>1</td>\n",
       "      <td>Toy Story (1995)</td>\n",
       "      <td>4</td>\n",
       "      <td>3.0</td>\n",
       "      <td>57309</td>\n",
       "    </tr>\n",
       "    <tr>\n",
       "      <th>3</th>\n",
       "      <td>1</td>\n",
       "      <td>Toy Story (1995)</td>\n",
       "      <td>5</td>\n",
       "      <td>4.0</td>\n",
       "      <td>57309</td>\n",
       "    </tr>\n",
       "    <tr>\n",
       "      <th>4</th>\n",
       "      <td>1</td>\n",
       "      <td>Toy Story (1995)</td>\n",
       "      <td>8</td>\n",
       "      <td>4.0</td>\n",
       "      <td>57309</td>\n",
       "    </tr>\n",
       "  </tbody>\n",
       "</table>\n",
       "</div>"
      ],
      "text/plain": [
       "   movieId             title  userId  rating  ratingcount\n",
       "0        1  Toy Story (1995)       2     3.5        57309\n",
       "1        1  Toy Story (1995)       3     4.0        57309\n",
       "2        1  Toy Story (1995)       4     3.0        57309\n",
       "3        1  Toy Story (1995)       5     4.0        57309\n",
       "4        1  Toy Story (1995)       8     4.0        57309"
      ]
     },
     "execution_count": 12,
     "metadata": {},
     "output_type": "execute_result"
    }
   ],
   "source": [
    "df3=df1.merge(df2,on='title',how='left')\n",
    "df3.head()"
   ]
  },
  {
   "cell_type": "code",
   "execution_count": 13,
   "id": "744fabe7",
   "metadata": {
    "execution": {
     "iopub.execute_input": "2024-06-19T05:55:22.832630Z",
     "iopub.status.busy": "2024-06-19T05:55:22.832185Z",
     "iopub.status.idle": "2024-06-19T05:55:24.051249Z",
     "shell.execute_reply": "2024-06-19T05:55:24.050002Z"
    },
    "papermill": {
     "duration": 1.232992,
     "end_time": "2024-06-19T05:55:24.054008",
     "exception": false,
     "start_time": "2024-06-19T05:55:22.821016",
     "status": "completed"
    },
    "tags": []
   },
   "outputs": [
    {
     "name": "stdout",
     "output_type": "stream",
     "text": [
      "10% of count= 825.0\n",
      "25% of count= 2986.0\n",
      "50% of count= 9152.0\n",
      "75% of count= 20757.0\n",
      "85% of count= 30910.0\n",
      "100% of count= 81491.0\n"
     ]
    }
   ],
   "source": [
    "print(f'10% of count= {df3.ratingcount.quantile(.1)}')\n",
    "print(f'25% of count= {df3.ratingcount.quantile(.25)}')\n",
    "print(f'50% of count= {df3.ratingcount.quantile(.5)}')\n",
    "print(f'75% of count= {df3.ratingcount.quantile(.75)}')\n",
    "print(f'85% of count= {df3.ratingcount.quantile(.85)}')\n",
    "print(f'100% of count= {df3.ratingcount.quantile(1)}')"
   ]
  },
  {
   "cell_type": "code",
   "execution_count": 14,
   "id": "b7b15a53",
   "metadata": {
    "execution": {
     "iopub.execute_input": "2024-06-19T05:55:24.076458Z",
     "iopub.status.busy": "2024-06-19T05:55:24.076024Z",
     "iopub.status.idle": "2024-06-19T05:55:24.718454Z",
     "shell.execute_reply": "2024-06-19T05:55:24.717092Z"
    },
    "papermill": {
     "duration": 0.656891,
     "end_time": "2024-06-19T05:55:24.721360",
     "exception": false,
     "start_time": "2024-06-19T05:55:24.064469",
     "status": "completed"
    },
    "tags": []
   },
   "outputs": [
    {
     "data": {
      "text/plain": [
       "(11878413, 5)"
      ]
     },
     "execution_count": 14,
     "metadata": {},
     "output_type": "execute_result"
    }
   ],
   "source": [
    "df4=df3[df3.ratingcount>=10000]\n",
    "df4.shape"
   ]
  },
  {
   "cell_type": "code",
   "execution_count": 15,
   "id": "4b6821e2",
   "metadata": {
    "execution": {
     "iopub.execute_input": "2024-06-19T05:55:24.744473Z",
     "iopub.status.busy": "2024-06-19T05:55:24.744071Z",
     "iopub.status.idle": "2024-06-19T05:55:36.555895Z",
     "shell.execute_reply": "2024-06-19T05:55:36.554765Z"
    },
    "papermill": {
     "duration": 11.827139,
     "end_time": "2024-06-19T05:55:36.558660",
     "exception": false,
     "start_time": "2024-06-19T05:55:24.731521",
     "status": "completed"
    },
    "tags": []
   },
   "outputs": [
    {
     "data": {
      "text/html": [
       "<div>\n",
       "<style scoped>\n",
       "    .dataframe tbody tr th:only-of-type {\n",
       "        vertical-align: middle;\n",
       "    }\n",
       "\n",
       "    .dataframe tbody tr th {\n",
       "        vertical-align: top;\n",
       "    }\n",
       "\n",
       "    .dataframe thead th {\n",
       "        text-align: right;\n",
       "    }\n",
       "</style>\n",
       "<table border=\"1\" class=\"dataframe\">\n",
       "  <thead>\n",
       "    <tr style=\"text-align: right;\">\n",
       "      <th>userId</th>\n",
       "      <th>1</th>\n",
       "      <th>2</th>\n",
       "      <th>3</th>\n",
       "      <th>4</th>\n",
       "      <th>5</th>\n",
       "      <th>6</th>\n",
       "      <th>7</th>\n",
       "      <th>8</th>\n",
       "      <th>9</th>\n",
       "      <th>10</th>\n",
       "      <th>...</th>\n",
       "      <th>162532</th>\n",
       "      <th>162533</th>\n",
       "      <th>162534</th>\n",
       "      <th>162535</th>\n",
       "      <th>162536</th>\n",
       "      <th>162537</th>\n",
       "      <th>162538</th>\n",
       "      <th>162539</th>\n",
       "      <th>162540</th>\n",
       "      <th>162541</th>\n",
       "    </tr>\n",
       "    <tr>\n",
       "      <th>title</th>\n",
       "      <th></th>\n",
       "      <th></th>\n",
       "      <th></th>\n",
       "      <th></th>\n",
       "      <th></th>\n",
       "      <th></th>\n",
       "      <th></th>\n",
       "      <th></th>\n",
       "      <th></th>\n",
       "      <th></th>\n",
       "      <th></th>\n",
       "      <th></th>\n",
       "      <th></th>\n",
       "      <th></th>\n",
       "      <th></th>\n",
       "      <th></th>\n",
       "      <th></th>\n",
       "      <th></th>\n",
       "      <th></th>\n",
       "      <th></th>\n",
       "      <th></th>\n",
       "    </tr>\n",
       "  </thead>\n",
       "  <tbody>\n",
       "    <tr>\n",
       "      <th>(500) Days of Summer (2009)</th>\n",
       "      <td>0.0</td>\n",
       "      <td>0.0</td>\n",
       "      <td>0.0</td>\n",
       "      <td>0.0</td>\n",
       "      <td>0.0</td>\n",
       "      <td>0.0</td>\n",
       "      <td>0.0</td>\n",
       "      <td>0.0</td>\n",
       "      <td>0.0</td>\n",
       "      <td>0.0</td>\n",
       "      <td>...</td>\n",
       "      <td>0.0</td>\n",
       "      <td>0.0</td>\n",
       "      <td>0.0</td>\n",
       "      <td>0.0</td>\n",
       "      <td>0.0</td>\n",
       "      <td>0.0</td>\n",
       "      <td>4.5</td>\n",
       "      <td>0.0</td>\n",
       "      <td>0.0</td>\n",
       "      <td>0.0</td>\n",
       "    </tr>\n",
       "    <tr>\n",
       "      <th>10 Things I Hate About You (1999)</th>\n",
       "      <td>0.0</td>\n",
       "      <td>0.0</td>\n",
       "      <td>0.0</td>\n",
       "      <td>0.0</td>\n",
       "      <td>0.0</td>\n",
       "      <td>0.0</td>\n",
       "      <td>0.0</td>\n",
       "      <td>0.0</td>\n",
       "      <td>0.0</td>\n",
       "      <td>3.0</td>\n",
       "      <td>...</td>\n",
       "      <td>0.0</td>\n",
       "      <td>2.5</td>\n",
       "      <td>0.0</td>\n",
       "      <td>0.0</td>\n",
       "      <td>0.0</td>\n",
       "      <td>0.0</td>\n",
       "      <td>4.5</td>\n",
       "      <td>0.0</td>\n",
       "      <td>0.0</td>\n",
       "      <td>0.0</td>\n",
       "    </tr>\n",
       "    <tr>\n",
       "      <th>12 Angry Men (1957)</th>\n",
       "      <td>0.0</td>\n",
       "      <td>0.0</td>\n",
       "      <td>0.0</td>\n",
       "      <td>0.0</td>\n",
       "      <td>0.0</td>\n",
       "      <td>5.0</td>\n",
       "      <td>0.0</td>\n",
       "      <td>4.0</td>\n",
       "      <td>0.0</td>\n",
       "      <td>0.0</td>\n",
       "      <td>...</td>\n",
       "      <td>0.0</td>\n",
       "      <td>0.0</td>\n",
       "      <td>4.5</td>\n",
       "      <td>0.0</td>\n",
       "      <td>0.0</td>\n",
       "      <td>0.0</td>\n",
       "      <td>0.0</td>\n",
       "      <td>0.0</td>\n",
       "      <td>0.0</td>\n",
       "      <td>0.0</td>\n",
       "    </tr>\n",
       "    <tr>\n",
       "      <th>2001: A Space Odyssey (1968)</th>\n",
       "      <td>0.0</td>\n",
       "      <td>0.0</td>\n",
       "      <td>5.0</td>\n",
       "      <td>4.0</td>\n",
       "      <td>0.0</td>\n",
       "      <td>4.0</td>\n",
       "      <td>0.0</td>\n",
       "      <td>5.0</td>\n",
       "      <td>3.0</td>\n",
       "      <td>4.5</td>\n",
       "      <td>...</td>\n",
       "      <td>0.0</td>\n",
       "      <td>0.0</td>\n",
       "      <td>5.0</td>\n",
       "      <td>0.0</td>\n",
       "      <td>0.0</td>\n",
       "      <td>0.0</td>\n",
       "      <td>0.0</td>\n",
       "      <td>0.0</td>\n",
       "      <td>0.0</td>\n",
       "      <td>3.0</td>\n",
       "    </tr>\n",
       "    <tr>\n",
       "      <th>28 Days Later (2002)</th>\n",
       "      <td>0.0</td>\n",
       "      <td>0.0</td>\n",
       "      <td>3.0</td>\n",
       "      <td>0.0</td>\n",
       "      <td>0.0</td>\n",
       "      <td>0.0</td>\n",
       "      <td>0.0</td>\n",
       "      <td>0.0</td>\n",
       "      <td>0.0</td>\n",
       "      <td>4.5</td>\n",
       "      <td>...</td>\n",
       "      <td>0.0</td>\n",
       "      <td>3.5</td>\n",
       "      <td>0.0</td>\n",
       "      <td>0.0</td>\n",
       "      <td>0.0</td>\n",
       "      <td>0.0</td>\n",
       "      <td>0.0</td>\n",
       "      <td>0.0</td>\n",
       "      <td>0.0</td>\n",
       "      <td>0.0</td>\n",
       "    </tr>\n",
       "  </tbody>\n",
       "</table>\n",
       "<p>5 rows × 162109 columns</p>\n",
       "</div>"
      ],
      "text/plain": [
       "userId                             1       2       3       4       5       \\\n",
       "title                                                                       \n",
       "(500) Days of Summer (2009)           0.0     0.0     0.0     0.0     0.0   \n",
       "10 Things I Hate About You (1999)     0.0     0.0     0.0     0.0     0.0   \n",
       "12 Angry Men (1957)                   0.0     0.0     0.0     0.0     0.0   \n",
       "2001: A Space Odyssey (1968)          0.0     0.0     5.0     4.0     0.0   \n",
       "28 Days Later (2002)                  0.0     0.0     3.0     0.0     0.0   \n",
       "\n",
       "userId                             6       7       8       9       10      \\\n",
       "title                                                                       \n",
       "(500) Days of Summer (2009)           0.0     0.0     0.0     0.0     0.0   \n",
       "10 Things I Hate About You (1999)     0.0     0.0     0.0     0.0     3.0   \n",
       "12 Angry Men (1957)                   5.0     0.0     4.0     0.0     0.0   \n",
       "2001: A Space Odyssey (1968)          4.0     0.0     5.0     3.0     4.5   \n",
       "28 Days Later (2002)                  0.0     0.0     0.0     0.0     4.5   \n",
       "\n",
       "userId                             ...  162532  162533  162534  162535  \\\n",
       "title                              ...                                   \n",
       "(500) Days of Summer (2009)        ...     0.0     0.0     0.0     0.0   \n",
       "10 Things I Hate About You (1999)  ...     0.0     2.5     0.0     0.0   \n",
       "12 Angry Men (1957)                ...     0.0     0.0     4.5     0.0   \n",
       "2001: A Space Odyssey (1968)       ...     0.0     0.0     5.0     0.0   \n",
       "28 Days Later (2002)               ...     0.0     3.5     0.0     0.0   \n",
       "\n",
       "userId                             162536  162537  162538  162539  162540  \\\n",
       "title                                                                       \n",
       "(500) Days of Summer (2009)           0.0     0.0     4.5     0.0     0.0   \n",
       "10 Things I Hate About You (1999)     0.0     0.0     4.5     0.0     0.0   \n",
       "12 Angry Men (1957)                   0.0     0.0     0.0     0.0     0.0   \n",
       "2001: A Space Odyssey (1968)          0.0     0.0     0.0     0.0     0.0   \n",
       "28 Days Later (2002)                  0.0     0.0     0.0     0.0     0.0   \n",
       "\n",
       "userId                             162541  \n",
       "title                                      \n",
       "(500) Days of Summer (2009)           0.0  \n",
       "10 Things I Hate About You (1999)     0.0  \n",
       "12 Angry Men (1957)                   0.0  \n",
       "2001: A Space Odyssey (1968)          3.0  \n",
       "28 Days Later (2002)                  0.0  \n",
       "\n",
       "[5 rows x 162109 columns]"
      ]
     },
     "execution_count": 15,
     "metadata": {},
     "output_type": "execute_result"
    }
   ],
   "source": [
    "movie_rating_pivote=df4.pivot_table(index='title',columns='userId', values='rating').fillna(0)\n",
    "movie_rating_pivote.head()"
   ]
  },
  {
   "cell_type": "code",
   "execution_count": 16,
   "id": "e967062f",
   "metadata": {
    "execution": {
     "iopub.execute_input": "2024-06-19T05:55:36.581164Z",
     "iopub.status.busy": "2024-06-19T05:55:36.580688Z",
     "iopub.status.idle": "2024-06-19T05:55:41.675398Z",
     "shell.execute_reply": "2024-06-19T05:55:41.674133Z"
    },
    "papermill": {
     "duration": 5.109288,
     "end_time": "2024-06-19T05:55:41.678158",
     "exception": false,
     "start_time": "2024-06-19T05:55:36.568870",
     "status": "completed"
    },
    "tags": []
   },
   "outputs": [
    {
     "data": {
      "text/html": [
       "<style>#sk-container-id-1 {color: black;background-color: white;}#sk-container-id-1 pre{padding: 0;}#sk-container-id-1 div.sk-toggleable {background-color: white;}#sk-container-id-1 label.sk-toggleable__label {cursor: pointer;display: block;width: 100%;margin-bottom: 0;padding: 0.3em;box-sizing: border-box;text-align: center;}#sk-container-id-1 label.sk-toggleable__label-arrow:before {content: \"▸\";float: left;margin-right: 0.25em;color: #696969;}#sk-container-id-1 label.sk-toggleable__label-arrow:hover:before {color: black;}#sk-container-id-1 div.sk-estimator:hover label.sk-toggleable__label-arrow:before {color: black;}#sk-container-id-1 div.sk-toggleable__content {max-height: 0;max-width: 0;overflow: hidden;text-align: left;background-color: #f0f8ff;}#sk-container-id-1 div.sk-toggleable__content pre {margin: 0.2em;color: black;border-radius: 0.25em;background-color: #f0f8ff;}#sk-container-id-1 input.sk-toggleable__control:checked~div.sk-toggleable__content {max-height: 200px;max-width: 100%;overflow: auto;}#sk-container-id-1 input.sk-toggleable__control:checked~label.sk-toggleable__label-arrow:before {content: \"▾\";}#sk-container-id-1 div.sk-estimator input.sk-toggleable__control:checked~label.sk-toggleable__label {background-color: #d4ebff;}#sk-container-id-1 div.sk-label input.sk-toggleable__control:checked~label.sk-toggleable__label {background-color: #d4ebff;}#sk-container-id-1 input.sk-hidden--visually {border: 0;clip: rect(1px 1px 1px 1px);clip: rect(1px, 1px, 1px, 1px);height: 1px;margin: -1px;overflow: hidden;padding: 0;position: absolute;width: 1px;}#sk-container-id-1 div.sk-estimator {font-family: monospace;background-color: #f0f8ff;border: 1px dotted black;border-radius: 0.25em;box-sizing: border-box;margin-bottom: 0.5em;}#sk-container-id-1 div.sk-estimator:hover {background-color: #d4ebff;}#sk-container-id-1 div.sk-parallel-item::after {content: \"\";width: 100%;border-bottom: 1px solid gray;flex-grow: 1;}#sk-container-id-1 div.sk-label:hover label.sk-toggleable__label {background-color: #d4ebff;}#sk-container-id-1 div.sk-serial::before {content: \"\";position: absolute;border-left: 1px solid gray;box-sizing: border-box;top: 0;bottom: 0;left: 50%;z-index: 0;}#sk-container-id-1 div.sk-serial {display: flex;flex-direction: column;align-items: center;background-color: white;padding-right: 0.2em;padding-left: 0.2em;position: relative;}#sk-container-id-1 div.sk-item {position: relative;z-index: 1;}#sk-container-id-1 div.sk-parallel {display: flex;align-items: stretch;justify-content: center;background-color: white;position: relative;}#sk-container-id-1 div.sk-item::before, #sk-container-id-1 div.sk-parallel-item::before {content: \"\";position: absolute;border-left: 1px solid gray;box-sizing: border-box;top: 0;bottom: 0;left: 50%;z-index: -1;}#sk-container-id-1 div.sk-parallel-item {display: flex;flex-direction: column;z-index: 1;position: relative;background-color: white;}#sk-container-id-1 div.sk-parallel-item:first-child::after {align-self: flex-end;width: 50%;}#sk-container-id-1 div.sk-parallel-item:last-child::after {align-self: flex-start;width: 50%;}#sk-container-id-1 div.sk-parallel-item:only-child::after {width: 0;}#sk-container-id-1 div.sk-dashed-wrapped {border: 1px dashed gray;margin: 0 0.4em 0.5em 0.4em;box-sizing: border-box;padding-bottom: 0.4em;background-color: white;}#sk-container-id-1 div.sk-label label {font-family: monospace;font-weight: bold;display: inline-block;line-height: 1.2em;}#sk-container-id-1 div.sk-label-container {text-align: center;}#sk-container-id-1 div.sk-container {/* jupyter's `normalize.less` sets `[hidden] { display: none; }` but bootstrap.min.css set `[hidden] { display: none !important; }` so we also need the `!important` here to be able to override the default hidden behavior on the sphinx rendered scikit-learn.org. See: https://github.com/scikit-learn/scikit-learn/issues/21755 */display: inline-block !important;position: relative;}#sk-container-id-1 div.sk-text-repr-fallback {display: none;}</style><div id=\"sk-container-id-1\" class=\"sk-top-container\"><div class=\"sk-text-repr-fallback\"><pre>NearestNeighbors(algorithm=&#x27;brute&#x27;, metric=&#x27;cosine&#x27;, n_neighbors=11)</pre><b>In a Jupyter environment, please rerun this cell to show the HTML representation or trust the notebook. <br />On GitHub, the HTML representation is unable to render, please try loading this page with nbviewer.org.</b></div><div class=\"sk-container\" hidden><div class=\"sk-item\"><div class=\"sk-estimator sk-toggleable\"><input class=\"sk-toggleable__control sk-hidden--visually\" id=\"sk-estimator-id-1\" type=\"checkbox\" checked><label for=\"sk-estimator-id-1\" class=\"sk-toggleable__label sk-toggleable__label-arrow\">NearestNeighbors</label><div class=\"sk-toggleable__content\"><pre>NearestNeighbors(algorithm=&#x27;brute&#x27;, metric=&#x27;cosine&#x27;, n_neighbors=11)</pre></div></div></div></div></div>"
      ],
      "text/plain": [
       "NearestNeighbors(algorithm='brute', metric='cosine', n_neighbors=11)"
      ]
     },
     "execution_count": 16,
     "metadata": {},
     "output_type": "execute_result"
    }
   ],
   "source": [
    "from scipy.sparse import csr_matrix\n",
    "from sklearn.neighbors import NearestNeighbors\n",
    "\n",
    "movie_rating_df=csr_matrix(movie_rating_pivote.values)\n",
    "\n",
    "model_knn=NearestNeighbors(metric='cosine', algorithm='brute',n_neighbors=11)\n",
    "model_knn.fit(movie_rating_df)"
   ]
  },
  {
   "cell_type": "code",
   "execution_count": 17,
   "id": "f7e7e085",
   "metadata": {
    "execution": {
     "iopub.execute_input": "2024-06-19T05:55:41.702696Z",
     "iopub.status.busy": "2024-06-19T05:55:41.702225Z",
     "iopub.status.idle": "2024-06-19T05:55:41.709994Z",
     "shell.execute_reply": "2024-06-19T05:55:41.708680Z"
    },
    "papermill": {
     "duration": 0.023041,
     "end_time": "2024-06-19T05:55:41.712533",
     "exception": false,
     "start_time": "2024-06-19T05:55:41.689492",
     "status": "completed"
    },
    "tags": []
   },
   "outputs": [
    {
     "data": {
      "text/plain": [
       "(588, 162109)"
      ]
     },
     "execution_count": 17,
     "metadata": {},
     "output_type": "execute_result"
    }
   ],
   "source": [
    "movie_rating_df.shape"
   ]
  },
  {
   "cell_type": "code",
   "execution_count": 18,
   "id": "036dcac6",
   "metadata": {
    "execution": {
     "iopub.execute_input": "2024-06-19T05:55:41.736541Z",
     "iopub.status.busy": "2024-06-19T05:55:41.736105Z",
     "iopub.status.idle": "2024-06-19T05:55:41.900939Z",
     "shell.execute_reply": "2024-06-19T05:55:41.899741Z"
    },
    "papermill": {
     "duration": 0.180766,
     "end_time": "2024-06-19T05:55:41.904290",
     "exception": false,
     "start_time": "2024-06-19T05:55:41.723524",
     "status": "completed"
    },
    "tags": []
   },
   "outputs": [
    {
     "name": "stdout",
     "output_type": "stream",
     "text": [
      "Recommendation for a movie: Sense and Sensibility (1995)\n",
      "1: Four Weddings and a Funeral (1994) with a distance 0.5835726680016693\n",
      "2: Dead Man Walking (1995) with a distance 0.600731202934407\n",
      "3: Much Ado About Nothing (1993) with a distance 0.6008205228350088\n",
      "4: Piano, The (1993) with a distance 0.6132756605912677\n",
      "5: Postman, The (Postino, Il) (1994) with a distance 0.6245163236472786\n",
      "6: Leaving Las Vegas (1995) with a distance 0.6262457702731282\n",
      "7: Like Water for Chocolate (Como agua para chocolate) (1992) with a distance 0.6301102213639552\n",
      "8: Birdcage, The (1996) with a distance 0.6306896054016372\n",
      "9: Mr. Holland's Opus (1995) with a distance 0.6313555177764647\n",
      "10: Truth About Cats & Dogs, The (1996) with a distance 0.6322794831134104\n"
     ]
    }
   ],
   "source": [
    "distance,indices=model_knn.kneighbors(movie_rating_pivote.iloc[np.random.choice(movie_rating_df.shape[0]),:].values.reshape(1,-1),n_neighbors=11)\n",
    "\n",
    "for i in range(0, len(distance.flatten())):\n",
    "    if i == 0:\n",
    "        print(f'Recommendation for a movie: {movie_rating_pivote.index[indices.flatten()[i]]}')\n",
    "    else:\n",
    "        print(f'{i}: {movie_rating_pivote.index[indices.flatten()[i]]} with a distance {distance.flatten()[i]}')"
   ]
  }
 ],
 "metadata": {
  "kaggle": {
   "accelerator": "none",
   "dataSources": [
    {
     "datasetId": 3375918,
     "sourceId": 5872805,
     "sourceType": "datasetVersion"
    }
   ],
   "dockerImageVersionId": 30732,
   "isGpuEnabled": false,
   "isInternetEnabled": true,
   "language": "python",
   "sourceType": "notebook"
  },
  "kernelspec": {
   "display_name": "Python 3",
   "language": "python",
   "name": "python3"
  },
  "language_info": {
   "codemirror_mode": {
    "name": "ipython",
    "version": 3
   },
   "file_extension": ".py",
   "mimetype": "text/x-python",
   "name": "python",
   "nbconvert_exporter": "python",
   "pygments_lexer": "ipython3",
   "version": "3.10.13"
  },
  "papermill": {
   "default_parameters": {},
   "duration": 64.41043,
   "end_time": "2024-06-19T05:55:43.042241",
   "environment_variables": {},
   "exception": null,
   "input_path": "__notebook__.ipynb",
   "output_path": "__notebook__.ipynb",
   "parameters": {},
   "start_time": "2024-06-19T05:54:38.631811",
   "version": "2.5.0"
  }
 },
 "nbformat": 4,
 "nbformat_minor": 5
}
